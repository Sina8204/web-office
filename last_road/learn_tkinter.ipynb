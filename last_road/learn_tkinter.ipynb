{
 "cells": [
  {
   "cell_type": "code",
   "execution_count": 11,
   "id": "10c8f88c",
   "metadata": {},
   "outputs": [],
   "source": [
    "import tkinter as tk\n",
    "\n",
    "class MakeWindow(tk.Tk):\n",
    "    def __init__(self):\n",
    "        super().__init__()\n",
    "        self.title(\"My Window\")\n",
    "        self.geometry(\"300x200\")\n",
    "\n",
    "app = MakeWindow()\n",
    "app.mainloop()"
   ]
  },
  {
   "cell_type": "code",
   "execution_count": 13,
   "id": "5b836110",
   "metadata": {},
   "outputs": [],
   "source": [
    "import tkinter as tk\n",
    "\n",
    "class MyApp(tk.Tk):\n",
    "    def __init__(self):\n",
    "        super().__init__()\n",
    "        self.title(\"مثال کلاس‌محور\")\n",
    "\n",
    "        self.label = tk.Label(self, text=\"سلام دنیا\")\n",
    "        self.label.pack()\n",
    "\n",
    "        self.button = tk.Button(self, text=\"کلیک کن\", command=self.say_hello)\n",
    "        self.button.pack()\n",
    "\n",
    "    def say_hello(self):\n",
    "        self.label.config(text=\"سلام سینا!\")\n",
    "\n",
    "app = MyApp()\n",
    "app.mainloop()\n"
   ]
  },
  {
   "cell_type": "code",
   "execution_count": 14,
   "id": "f1057e2e",
   "metadata": {},
   "outputs": [],
   "source": [
    "import tkinter as tk\n",
    "\n",
    "class lable(tk.Tk):\n",
    "    def __init__(self , tx):\n",
    "        super().__init__()\n",
    "        self.title(\"create lable\")\n",
    "        self.geometry(\"300x200\")\n",
    "\n",
    "        self.lb = tk.Label(self , text = tx)\n",
    "        self.lb.pack()\n",
    "\n",
    "app = lable(\"hello world\")\n",
    "app.mainloop()"
   ]
  },
  {
   "cell_type": "code",
   "execution_count": 25,
   "id": "b698ac88",
   "metadata": {},
   "outputs": [],
   "source": [
    "import tkinter as tk\n",
    "# r = tk.Tk()\n",
    "# r.title('Counting Seconds')\n",
    "# button = tk.Button(r, text='Stop', width=25, command=r.destroy)\n",
    "# button.pack()\n",
    "# r.mainloop()\n",
    "\n",
    "class btn (tk.Tk):\n",
    "    def __init__(self):\n",
    "        super().__init__()\n",
    "        self.title(\"make button\")\n",
    "        self.geometry(\"1000x600\")\n",
    "        self.button = tk.Button(self , text = \"exit\" , width = 25 , command=self.destroy)\n",
    "        self.button.pack()\n",
    "\n",
    "app = btn()\n",
    "app.mainloop()"
   ]
  },
  {
   "cell_type": "code",
   "execution_count": 3,
   "id": "b758236c",
   "metadata": {},
   "outputs": [],
   "source": [
    "# from tkinter import *\n",
    "# master = Tk()\n",
    "# Label(master, text='First Name').grid(row=0)\n",
    "# Label(master, text='Last Name').grid(row=1)\n",
    "# e1 = Entry(master)\n",
    "# e2 = Entry(master)\n",
    "# e1.grid(row=0, column=1)\n",
    "# e2.grid(row=1, column=1)\n",
    "# mainloop()\n",
    "\n",
    "import tkinter as tk\n",
    "class make_entry(tk.Tk):\n",
    "    def __init__(self):\n",
    "        super().__init__()\n",
    "        self.title(\"creat Entry\")\n",
    "        self.geometry(\"200x50\")\n",
    "        \n",
    "        self.lb1 = tk.Label(self , text=\"Entry 1\")\n",
    "        self.lb1.grid(row = 0)\n",
    "\n",
    "        self.lb2 = tk.Label(self , text = \"Entry 2\")\n",
    "        self.lb2.grid(row = 1)\n",
    "\n",
    "        self.entry1 = tk.Entry(self)\n",
    "        self.entry1.grid(row=0 , column=1)\n",
    "\n",
    "        self.entry1 = tk.Entry(self)\n",
    "        self.entry1.grid(row=1 , column=1)\n",
    "\n",
    "app = make_entry()\n",
    "app.mainloop()"
   ]
  },
  {
   "cell_type": "code",
   "execution_count": 15,
   "id": "b99de6aa",
   "metadata": {},
   "outputs": [
    {
     "name": "stdout",
     "output_type": "stream",
     "text": [
      "0\n",
      "1\n",
      "1\n",
      "0\n"
     ]
    }
   ],
   "source": [
    "import tkinter as tk\n",
    "from tkinter import messagebox\n",
    "class notBook(tk.Tk):\n",
    "    def __init__(self):\n",
    "        super().__init__()\n",
    "        self.title(\"Note book\")\n",
    "        self.geometry(\"350x400\")\n",
    "        self.button = tk.Button(self , text=\"show message\" , width=10 , command=self.showmsg)\n",
    "        self.button.grid(row=0)\n",
    "        self.entry = tk.Entry(self , width=50)\n",
    "        self.entry.grid(row=1)\n",
    "        self.chk = tk.IntVar()\n",
    "        self.check_btn = tk.Checkbutton(self , text =\"show messag\" , variable = self.chk)\n",
    "        self.check_btn.grid(row=2)\n",
    "    \n",
    "    def showmsg(self):\n",
    "        if self.chk.get():\n",
    "            messagebox.showinfo(\"Message\", f\"You typed: {self.entry.get()}\")\n",
    "        print (self.chk.get())\n",
    "\n",
    "app = notBook()\n",
    "app.mainloop()"
   ]
  },
  {
   "cell_type": "code",
   "execution_count": null,
   "id": "42e7d547",
   "metadata": {},
   "outputs": [],
   "source": [
    "import tkinter as tk\n",
    "\n",
    "class list_box(tk.Tk):\n",
    "    def __init__(self):\n",
    "        super().__init__()\n",
    "        self.lst = tk.Listbox(self)\n",
    "        self.lst.insert(1 , \"a\")\n",
    "        self.lst.insert(2 , \"b\")\n",
    "        self.lst.insert(3 , \"c\")\n",
    "        self.lst.insert(4 , \"d\")\n",
    "        self.lst.pack()\n",
    "\n",
    "app = list_box()\n",
    "app.mainloop()"
   ]
  },
  {
   "cell_type": "code",
   "execution_count": 3,
   "id": "ff79001f",
   "metadata": {},
   "outputs": [
    {
     "ename": "TclError",
     "evalue": "no display name and no $DISPLAY environment variable",
     "output_type": "error",
     "traceback": [
      "\u001b[31m---------------------------------------------------------------------------\u001b[39m",
      "\u001b[31mTclError\u001b[39m                                  Traceback (most recent call last)",
      "\u001b[36mCell\u001b[39m\u001b[36m \u001b[39m\u001b[32mIn[3]\u001b[39m\u001b[32m, line 2\u001b[39m\n\u001b[32m      1\u001b[39m \u001b[38;5;28;01mfrom\u001b[39;00m\u001b[38;5;250m \u001b[39m\u001b[34;01mtkinter\u001b[39;00m\u001b[38;5;250m \u001b[39m\u001b[38;5;28;01mimport\u001b[39;00m *\n\u001b[32m----> \u001b[39m\u001b[32m2\u001b[39m m1 = \u001b[43mPanedWindow\u001b[49m\u001b[43m(\u001b[49m\u001b[43m)\u001b[49m\n\u001b[32m      3\u001b[39m m1.pack(fill=BOTH, expand=\u001b[32m1\u001b[39m)\n\u001b[32m      4\u001b[39m left = Entry(m1, bd=\u001b[32m5\u001b[39m)\n",
      "\u001b[36mFile \u001b[39m\u001b[32m/usr/local/python/3.12.1/lib/python3.12/tkinter/__init__.py:4455\u001b[39m, in \u001b[36mPanedWindow.__init__\u001b[39m\u001b[34m(self, master, cnf, **kw)\u001b[39m\n\u001b[32m   4441\u001b[39m \u001b[38;5;28;01mdef\u001b[39;00m\u001b[38;5;250m \u001b[39m\u001b[34m__init__\u001b[39m(\u001b[38;5;28mself\u001b[39m, master=\u001b[38;5;28;01mNone\u001b[39;00m, cnf={}, **kw):\n\u001b[32m   4442\u001b[39m \u001b[38;5;250m    \u001b[39m\u001b[33;03m\"\"\"Construct a panedwindow widget with the parent MASTER.\u001b[39;00m\n\u001b[32m   4443\u001b[39m \n\u001b[32m   4444\u001b[39m \u001b[33;03m    STANDARD OPTIONS\u001b[39;00m\n\u001b[32m   (...)\u001b[39m\u001b[32m   4453\u001b[39m \u001b[33;03m        sashwidth, showhandle,\u001b[39;00m\n\u001b[32m   4454\u001b[39m \u001b[33;03m    \"\"\"\u001b[39;00m\n\u001b[32m-> \u001b[39m\u001b[32m4455\u001b[39m     \u001b[43mWidget\u001b[49m\u001b[43m.\u001b[49m\u001b[34;43m__init__\u001b[39;49m\u001b[43m(\u001b[49m\u001b[38;5;28;43mself\u001b[39;49m\u001b[43m,\u001b[49m\u001b[43m \u001b[49m\u001b[43mmaster\u001b[49m\u001b[43m,\u001b[49m\u001b[43m \u001b[49m\u001b[33;43m'\u001b[39;49m\u001b[33;43mpanedwindow\u001b[39;49m\u001b[33;43m'\u001b[39;49m\u001b[43m,\u001b[49m\u001b[43m \u001b[49m\u001b[43mcnf\u001b[49m\u001b[43m,\u001b[49m\u001b[43m \u001b[49m\u001b[43mkw\u001b[49m\u001b[43m)\u001b[49m\n",
      "\u001b[36mFile \u001b[39m\u001b[32m/usr/local/python/3.12.1/lib/python3.12/tkinter/__init__.py:2637\u001b[39m, in \u001b[36mBaseWidget.__init__\u001b[39m\u001b[34m(self, master, widgetName, cnf, kw, extra)\u001b[39m\n\u001b[32m   2635\u001b[39m     cnf = _cnfmerge((cnf, kw))\n\u001b[32m   2636\u001b[39m \u001b[38;5;28mself\u001b[39m.widgetName = widgetName\n\u001b[32m-> \u001b[39m\u001b[32m2637\u001b[39m \u001b[38;5;28;43mself\u001b[39;49m\u001b[43m.\u001b[49m\u001b[43m_setup\u001b[49m\u001b[43m(\u001b[49m\u001b[43mmaster\u001b[49m\u001b[43m,\u001b[49m\u001b[43m \u001b[49m\u001b[43mcnf\u001b[49m\u001b[43m)\u001b[49m\n\u001b[32m   2638\u001b[39m \u001b[38;5;28;01mif\u001b[39;00m \u001b[38;5;28mself\u001b[39m._tclCommands \u001b[38;5;129;01mis\u001b[39;00m \u001b[38;5;28;01mNone\u001b[39;00m:\n\u001b[32m   2639\u001b[39m     \u001b[38;5;28mself\u001b[39m._tclCommands = []\n",
      "\u001b[36mFile \u001b[39m\u001b[32m/usr/local/python/3.12.1/lib/python3.12/tkinter/__init__.py:2604\u001b[39m, in \u001b[36mBaseWidget._setup\u001b[39m\u001b[34m(self, master, cnf)\u001b[39m\n\u001b[32m   2602\u001b[39m \u001b[38;5;250m\u001b[39m\u001b[33;03m\"\"\"Internal function. Sets up information about children.\"\"\"\u001b[39;00m\n\u001b[32m   2603\u001b[39m \u001b[38;5;28;01mif\u001b[39;00m master \u001b[38;5;129;01mis\u001b[39;00m \u001b[38;5;28;01mNone\u001b[39;00m:\n\u001b[32m-> \u001b[39m\u001b[32m2604\u001b[39m     master = \u001b[43m_get_default_root\u001b[49m\u001b[43m(\u001b[49m\u001b[43m)\u001b[49m\n\u001b[32m   2605\u001b[39m \u001b[38;5;28mself\u001b[39m.master = master\n\u001b[32m   2606\u001b[39m \u001b[38;5;28mself\u001b[39m.tk = master.tk\n",
      "\u001b[36mFile \u001b[39m\u001b[32m/usr/local/python/3.12.1/lib/python3.12/tkinter/__init__.py:320\u001b[39m, in \u001b[36m_get_default_root\u001b[39m\u001b[34m(what)\u001b[39m\n\u001b[32m    318\u001b[39m     \u001b[38;5;28;01mif\u001b[39;00m what:\n\u001b[32m    319\u001b[39m         \u001b[38;5;28;01mraise\u001b[39;00m \u001b[38;5;167;01mRuntimeError\u001b[39;00m(\u001b[33mf\u001b[39m\u001b[33m\"\u001b[39m\u001b[33mToo early to \u001b[39m\u001b[38;5;132;01m{\u001b[39;00mwhat\u001b[38;5;132;01m}\u001b[39;00m\u001b[33m: no default root window\u001b[39m\u001b[33m\"\u001b[39m)\n\u001b[32m--> \u001b[39m\u001b[32m320\u001b[39m     root = \u001b[43mTk\u001b[49m\u001b[43m(\u001b[49m\u001b[43m)\u001b[49m\n\u001b[32m    321\u001b[39m     \u001b[38;5;28;01massert\u001b[39;00m _default_root \u001b[38;5;129;01mis\u001b[39;00m root\n\u001b[32m    322\u001b[39m \u001b[38;5;28;01mreturn\u001b[39;00m _default_root\n",
      "\u001b[36mFile \u001b[39m\u001b[32m/usr/local/python/3.12.1/lib/python3.12/tkinter/__init__.py:2340\u001b[39m, in \u001b[36mTk.__init__\u001b[39m\u001b[34m(self, screenName, baseName, className, useTk, sync, use)\u001b[39m\n\u001b[32m   2338\u001b[39m         baseName = baseName + ext\n\u001b[32m   2339\u001b[39m interactive = \u001b[38;5;28;01mFalse\u001b[39;00m\n\u001b[32m-> \u001b[39m\u001b[32m2340\u001b[39m \u001b[38;5;28mself\u001b[39m.tk = \u001b[43m_tkinter\u001b[49m\u001b[43m.\u001b[49m\u001b[43mcreate\u001b[49m\u001b[43m(\u001b[49m\u001b[43mscreenName\u001b[49m\u001b[43m,\u001b[49m\u001b[43m \u001b[49m\u001b[43mbaseName\u001b[49m\u001b[43m,\u001b[49m\u001b[43m \u001b[49m\u001b[43mclassName\u001b[49m\u001b[43m,\u001b[49m\u001b[43m \u001b[49m\u001b[43minteractive\u001b[49m\u001b[43m,\u001b[49m\u001b[43m \u001b[49m\u001b[43mwantobjects\u001b[49m\u001b[43m,\u001b[49m\u001b[43m \u001b[49m\u001b[43museTk\u001b[49m\u001b[43m,\u001b[49m\u001b[43m \u001b[49m\u001b[43msync\u001b[49m\u001b[43m,\u001b[49m\u001b[43m \u001b[49m\u001b[43muse\u001b[49m\u001b[43m)\u001b[49m\n\u001b[32m   2341\u001b[39m \u001b[38;5;28;01mif\u001b[39;00m useTk:\n\u001b[32m   2342\u001b[39m     \u001b[38;5;28mself\u001b[39m._loadtk()\n",
      "\u001b[31mTclError\u001b[39m: no display name and no $DISPLAY environment variable"
     ]
    }
   ],
   "source": [
    "from tkinter import *\n",
    "m1 = PanedWindow()\n",
    "m1.pack(fill=BOTH, expand=1)\n",
    "left = Entry(m1, bd=5)\n",
    "m1.add(left)\n",
    "m2 = PanedWindow(m1, orient=VERTICAL)\n",
    "m1.add(m2)\n",
    "top = Scale(m2, orient=HORIZONTAL)\n",
    "m2.add(top)\n",
    "mainloop()"
   ]
  },
  {
   "cell_type": "code",
   "execution_count": 2,
   "id": "05642144",
   "metadata": {},
   "outputs": [
    {
     "ename": "TclError",
     "evalue": "no display name and no $DISPLAY environment variable",
     "output_type": "error",
     "traceback": [
      "\u001b[31m---------------------------------------------------------------------------\u001b[39m",
      "\u001b[31mTclError\u001b[39m                                  Traceback (most recent call last)",
      "\u001b[36mCell\u001b[39m\u001b[36m \u001b[39m\u001b[32mIn[2]\u001b[39m\u001b[32m, line 39\u001b[39m\n\u001b[32m     36\u001b[39m data = [\u001b[33m\"\u001b[39m\u001b[33mسیب\u001b[39m\u001b[33m\"\u001b[39m, \u001b[33m\"\u001b[39m\u001b[33mموز\u001b[39m\u001b[33m\"\u001b[39m, \u001b[33m\"\u001b[39m\u001b[33mهلو\u001b[39m\u001b[33m\"\u001b[39m, \u001b[33m\"\u001b[39m\u001b[33mانگور\u001b[39m\u001b[33m\"\u001b[39m, \u001b[33m\"\u001b[39m\u001b[33mآناناس\u001b[39m\u001b[33m\"\u001b[39m, \u001b[33m\"\u001b[39m\u001b[33mپرتقال\u001b[39m\u001b[33m\"\u001b[39m]\n\u001b[32m     38\u001b[39m \u001b[38;5;66;03m# اجرای برنامه\u001b[39;00m\n\u001b[32m---> \u001b[39m\u001b[32m39\u001b[39m root = \u001b[43mtk\u001b[49m\u001b[43m.\u001b[49m\u001b[43mTk\u001b[49m\u001b[43m(\u001b[49m\u001b[43m)\u001b[49m\n\u001b[32m     40\u001b[39m root.title(\u001b[33m\"\u001b[39m\u001b[33mکومبوباکس با جست‌وجو\u001b[39m\u001b[33m\"\u001b[39m)\n\u001b[32m     41\u001b[39m combo = SearchableCombobox(root, data)\n",
      "\u001b[36mFile \u001b[39m\u001b[32m/usr/local/python/3.12.1/lib/python3.12/tkinter/__init__.py:2340\u001b[39m, in \u001b[36mTk.__init__\u001b[39m\u001b[34m(self, screenName, baseName, className, useTk, sync, use)\u001b[39m\n\u001b[32m   2338\u001b[39m         baseName = baseName + ext\n\u001b[32m   2339\u001b[39m interactive = \u001b[38;5;28;01mFalse\u001b[39;00m\n\u001b[32m-> \u001b[39m\u001b[32m2340\u001b[39m \u001b[38;5;28mself\u001b[39m.tk = \u001b[43m_tkinter\u001b[49m\u001b[43m.\u001b[49m\u001b[43mcreate\u001b[49m\u001b[43m(\u001b[49m\u001b[43mscreenName\u001b[49m\u001b[43m,\u001b[49m\u001b[43m \u001b[49m\u001b[43mbaseName\u001b[49m\u001b[43m,\u001b[49m\u001b[43m \u001b[49m\u001b[43mclassName\u001b[49m\u001b[43m,\u001b[49m\u001b[43m \u001b[49m\u001b[43minteractive\u001b[49m\u001b[43m,\u001b[49m\u001b[43m \u001b[49m\u001b[43mwantobjects\u001b[49m\u001b[43m,\u001b[49m\u001b[43m \u001b[49m\u001b[43museTk\u001b[49m\u001b[43m,\u001b[49m\u001b[43m \u001b[49m\u001b[43msync\u001b[49m\u001b[43m,\u001b[49m\u001b[43m \u001b[49m\u001b[43muse\u001b[49m\u001b[43m)\u001b[49m\n\u001b[32m   2341\u001b[39m \u001b[38;5;28;01mif\u001b[39;00m useTk:\n\u001b[32m   2342\u001b[39m     \u001b[38;5;28mself\u001b[39m._loadtk()\n",
      "\u001b[31mTclError\u001b[39m: no display name and no $DISPLAY environment variable"
     ]
    }
   ],
   "source": [
    "import tkinter as tk\n",
    "\n",
    "class SearchableCombobox(tk.Frame):\n",
    "    def __init__(self, master, data_list):\n",
    "        super().__init__(master)\n",
    "        self.data_list = data_list\n",
    "        self.filtered_data = data_list.copy()\n",
    "\n",
    "        self.search_var = tk.StringVar()\n",
    "        self.search_var.trace_add(\"write\", self.update_list)\n",
    "\n",
    "        self.entry = tk.Entry(self, textvariable=self.search_var)\n",
    "        self.entry.pack(fill=tk.X)\n",
    "\n",
    "        self.listbox = tk.Listbox(self)\n",
    "        self.listbox.pack(fill=tk.BOTH, expand=True)\n",
    "        self.listbox.bind(\"<<ListboxSelect>>\", self.on_select)\n",
    "\n",
    "        self.update_list()\n",
    "\n",
    "    def update_list(self, *args):\n",
    "        search_term = self.search_var.get().lower()\n",
    "        self.filtered_data = [item for item in self.data_list if search_term in item.lower()]\n",
    "        self.listbox.delete(0, tk.END)\n",
    "        for item in self.filtered_data:\n",
    "            self.listbox.insert(tk.END, item)\n",
    "\n",
    "    def on_select(self, event):\n",
    "        selection = event.widget.curselection()\n",
    "        if selection:\n",
    "            index = selection[0]\n",
    "            selected_item = self.filtered_data[index]\n",
    "            print(f\"{selected_item} کلیک شد\")\n",
    "\n",
    "# داده‌های نمونه\n",
    "data = [\"سیب\", \"موز\", \"هلو\", \"انگور\", \"آناناس\", \"پرتقال\"]\n",
    "\n",
    "# اجرای برنامه\n",
    "root = tk.Tk()\n",
    "root.title(\"کومبوباکس با جست‌وجو\")\n",
    "combo = SearchableCombobox(root, data)\n",
    "combo.pack(fill=tk.BOTH, expand=True)\n",
    "root.mainloop()\n"
   ]
  }
 ],
 "metadata": {
  "kernelspec": {
   "display_name": "Python 3 (ipykernel)",
   "language": "python",
   "name": "python3"
  },
  "language_info": {
   "codemirror_mode": {
    "name": "ipython",
    "version": 3
   },
   "file_extension": ".py",
   "mimetype": "text/x-python",
   "name": "python",
   "nbconvert_exporter": "python",
   "pygments_lexer": "ipython3",
   "version": "3.12.1"
  }
 },
 "nbformat": 4,
 "nbformat_minor": 5
}
